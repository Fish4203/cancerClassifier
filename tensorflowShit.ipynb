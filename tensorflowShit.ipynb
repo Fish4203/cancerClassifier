{
 "cells": [
  {
   "cell_type": "code",
   "execution_count": 20,
   "id": "dc1c4ee4",
   "metadata": {},
   "outputs": [
    {
     "name": "stdout",
     "output_type": "stream",
     "text": [
      "2.12.0\n"
     ]
    }
   ],
   "source": [
    "import tensorflow as tf\n",
    "import numpy as np\n",
    "import matplotlib.pyplot as plt\n",
    "from tensorflow import keras\n",
    "from tensorflow.keras import layers\n",
    "from tensorflow.keras.models import Sequential\n",
    "from tensorflow.keras import Model \n",
    "from tensorflow.keras.regularizers import L2\n",
    "\n",
    "print(tf.__version__)\n",
    "# https://www.tensorflow.org/tutorials/images/classification"
   ]
  },
  {
   "cell_type": "code",
   "execution_count": 2,
   "id": "5b839057",
   "metadata": {
    "scrolled": true
   },
   "outputs": [
    {
     "name": "stdout",
     "output_type": "stream",
     "text": [
      "Found 9896 files belonging to 4 classes.\n",
      "Using 7917 files for training.\n",
      "Found 9896 files belonging to 4 classes.\n",
      "Using 1979 files for validation.\n"
     ]
    }
   ],
   "source": [
    "batch_size = 32\n",
    "img_height = 27\n",
    "img_width = 27\n",
    "\n",
    "train_ds = tf.keras.utils.image_dataset_from_directory(\n",
    "  '/home/fish/programing/cancerClassifier/splitData/',\n",
    "  validation_split=0.2,\n",
    "  subset=\"training\",\n",
    "  seed=123,\n",
    "  image_size=(img_height, img_width),\n",
    "  batch_size=batch_size)\n",
    "\n",
    "val_ds = tf.keras.utils.image_dataset_from_directory(\n",
    "  '/home/fish/programing/cancerClassifier/splitData/',\n",
    "  validation_split=0.2,\n",
    "  subset=\"validation\",\n",
    "  seed=123,\n",
    "  image_size=(img_height, img_width),\n",
    "  batch_size=batch_size)\n",
    "\n",
    "\n",
    "class_names = train_ds.class_names"
   ]
  },
  {
   "cell_type": "code",
   "execution_count": 3,
   "id": "aad7477b",
   "metadata": {},
   "outputs": [],
   "source": [
    "AUTOTUNE = tf.data.AUTOTUNE\n",
    "\n",
    "train_ds = train_ds.cache().shuffle(1000).prefetch(buffer_size=AUTOTUNE)\n",
    "val_ds = val_ds.cache().prefetch(buffer_size=AUTOTUNE)\n",
    "\n"
   ]
  },
  {
   "cell_type": "code",
   "execution_count": 4,
   "id": "91a8a905",
   "metadata": {},
   "outputs": [
    {
     "name": "stderr",
     "output_type": "stream",
     "text": [
      "2023-05-15 22:52:15.577931: I tensorflow/core/common_runtime/executor.cc:1197] [/device:CPU:0] (DEBUG INFO) Executor start aborting (this does not indicate an error and you can ignore this message): INVALID_ARGUMENT: You must feed a value for placeholder tensor 'Placeholder/_4' with dtype int32 and shape [7917]\n",
      "\t [[{{node Placeholder/_4}}]]\n",
      "2023-05-15 22:52:15.578394: I tensorflow/core/common_runtime/executor.cc:1197] [/device:CPU:0] (DEBUG INFO) Executor start aborting (this does not indicate an error and you can ignore this message): INVALID_ARGUMENT: You must feed a value for placeholder tensor 'Placeholder/_4' with dtype int32 and shape [7917]\n",
      "\t [[{{node Placeholder/_4}}]]\n"
     ]
    },
    {
     "name": "stdout",
     "output_type": "stream",
     "text": [
      "0.27058825 1.0\n",
      "32\n"
     ]
    }
   ],
   "source": [
    "normalization_layer = tf.keras.layers.Rescaling(1./255)\n",
    "\n",
    "normalized_ds = train_ds.map(lambda x, y: (normalization_layer(x), y))\n",
    "image_batch, labels_batch = next(iter(normalized_ds))\n",
    "first_image = image_batch[10]\n",
    "# Notice the pixel values are now in `[0,1]`.\n",
    "print(np.min(first_image), np.max(first_image))\n",
    "\n",
    "print(len(image_batch))"
   ]
  },
  {
   "cell_type": "code",
   "execution_count": 21,
   "id": "7ba59062",
   "metadata": {},
   "outputs": [
    {
     "name": "stdout",
     "output_type": "stream",
     "text": [
      "Model: \"sequential_4\"\n",
      "_________________________________________________________________\n",
      " Layer (type)                Output Shape              Param #   \n",
      "=================================================================\n",
      " rescaling_5 (Rescaling)     (None, 27, 27, 3)         0         \n",
      "                                                                 \n",
      " conv2d_12 (Conv2D)          (None, 27, 27, 32)        896       \n",
      "                                                                 \n",
      " max_pooling2d_12 (MaxPoolin  (None, 13, 13, 32)       0         \n",
      " g2D)                                                            \n",
      "                                                                 \n",
      " conv2d_13 (Conv2D)          (None, 13, 13, 64)        18496     \n",
      "                                                                 \n",
      " max_pooling2d_13 (MaxPoolin  (None, 6, 6, 64)         0         \n",
      " g2D)                                                            \n",
      "                                                                 \n",
      " conv2d_14 (Conv2D)          (None, 6, 6, 128)         73856     \n",
      "                                                                 \n",
      " max_pooling2d_14 (MaxPoolin  (None, 3, 3, 128)        0         \n",
      " g2D)                                                            \n",
      "                                                                 \n",
      " flatten_4 (Flatten)         (None, 1152)              0         \n",
      "                                                                 \n",
      " dense_12 (Dense)            (None, 256)               295168    \n",
      "                                                                 \n",
      " dense_13 (Dense)            (None, 256)               65792     \n",
      "                                                                 \n",
      " dense_14 (Dense)            (None, 4)                 1028      \n",
      "                                                                 \n",
      "=================================================================\n",
      "Total params: 455,236\n",
      "Trainable params: 455,236\n",
      "Non-trainable params: 0\n",
      "_________________________________________________________________\n"
     ]
    }
   ],
   "source": [
    "num_classes = len(class_names)\n",
    "\n",
    "model = Sequential([\n",
    "  layers.Rescaling(1./255, input_shape=(img_height, img_width, 3)),\n",
    "  layers.Conv2D(32, (3,3), padding='same', activation='relu'),\n",
    "  layers.MaxPooling2D(),\n",
    "  layers.Conv2D(64, (3,3), padding='same', activation='relu'),\n",
    "  layers.MaxPooling2D(),\n",
    "  layers.Conv2D(128, (3,3), padding='same', activation='relu'),\n",
    "  layers.MaxPooling2D(),\n",
    "  layers.Flatten(),\n",
    "  layers.Dense(256, activation='gelu', kernel_regularizer=L2(0.01)),\n",
    "  layers.Dense(256, activation='gelu', kernel_regularizer=L2(0.01)),\n",
    "  layers.Dense(num_classes)\n",
    "])\n",
    "\n",
    "model.compile(optimizer='Adam',\n",
    "              loss=tf.keras.losses.SparseCategoricalCrossentropy(from_logits=True),\n",
    "              metrics=['accuracy'])\n",
    "\n",
    "model.summary()\n"
   ]
  },
  {
   "cell_type": "code",
   "execution_count": 22,
   "id": "b2802670",
   "metadata": {
    "scrolled": true
   },
   "outputs": [
    {
     "name": "stdout",
     "output_type": "stream",
     "text": [
      "Epoch 1/15\n",
      "248/248 [==============================] - 4s 12ms/step - loss: 1.8276 - accuracy: 0.5180 - val_loss: 0.9291 - val_accuracy: 0.6640\n",
      "Epoch 2/15\n",
      "248/248 [==============================] - 3s 12ms/step - loss: 0.8783 - accuracy: 0.6793 - val_loss: 0.7537 - val_accuracy: 0.7281\n",
      "Epoch 3/15\n",
      "248/248 [==============================] - 3s 13ms/step - loss: 0.7803 - accuracy: 0.7179 - val_loss: 0.7087 - val_accuracy: 0.7509\n",
      "Epoch 4/15\n",
      "248/248 [==============================] - 3s 12ms/step - loss: 0.7597 - accuracy: 0.7258 - val_loss: 0.7375 - val_accuracy: 0.7367\n",
      "Epoch 5/15\n",
      "248/248 [==============================] - 3s 12ms/step - loss: 0.7569 - accuracy: 0.7249 - val_loss: 0.7528 - val_accuracy: 0.7180\n",
      "Epoch 6/15\n",
      "248/248 [==============================] - 3s 12ms/step - loss: 0.7366 - accuracy: 0.7360 - val_loss: 0.7506 - val_accuracy: 0.7403\n",
      "Epoch 7/15\n",
      "248/248 [==============================] - 3s 12ms/step - loss: 0.7178 - accuracy: 0.7436 - val_loss: 0.7085 - val_accuracy: 0.7448\n",
      "Epoch 8/15\n",
      "248/248 [==============================] - 3s 12ms/step - loss: 0.7195 - accuracy: 0.7408 - val_loss: 0.6694 - val_accuracy: 0.7721\n",
      "Epoch 9/15\n",
      "248/248 [==============================] - 3s 12ms/step - loss: 0.6960 - accuracy: 0.7485 - val_loss: 0.6845 - val_accuracy: 0.7635\n",
      "Epoch 10/15\n",
      "248/248 [==============================] - 3s 12ms/step - loss: 0.6844 - accuracy: 0.7593 - val_loss: 0.6559 - val_accuracy: 0.7711\n",
      "Epoch 11/15\n",
      "248/248 [==============================] - 3s 13ms/step - loss: 0.6625 - accuracy: 0.7652 - val_loss: 0.6886 - val_accuracy: 0.7569\n",
      "Epoch 12/15\n",
      "248/248 [==============================] - 3s 13ms/step - loss: 0.6728 - accuracy: 0.7630 - val_loss: 0.6330 - val_accuracy: 0.7797\n",
      "Epoch 13/15\n",
      "248/248 [==============================] - 3s 12ms/step - loss: 0.6586 - accuracy: 0.7735 - val_loss: 0.7005 - val_accuracy: 0.7489\n",
      "Epoch 14/15\n",
      "248/248 [==============================] - 3s 13ms/step - loss: 0.6377 - accuracy: 0.7752 - val_loss: 0.6376 - val_accuracy: 0.7767\n",
      "Epoch 15/15\n",
      "248/248 [==============================] - 3s 13ms/step - loss: 0.6511 - accuracy: 0.7730 - val_loss: 0.6959 - val_accuracy: 0.7499\n"
     ]
    }
   ],
   "source": [
    "epochs=15\n",
    "history = model.fit(\n",
    "  train_ds,\n",
    "  validation_data=val_ds,\n",
    "  epochs=epochs\n",
    ")\n"
   ]
  },
  {
   "cell_type": "code",
   "execution_count": 23,
   "id": "a656ab1e",
   "metadata": {},
   "outputs": [
    {
     "data": {
      "image/png": "[encoded data removed]",
      "text/plain": [
       "<Figure size 800x800 with 2 Axes>"
      ]
     },
     "metadata": {},
     "output_type": "display_data"
    }
   ],
   "source": [
    "acc = history.history['accuracy']\n",
    "val_acc = history.history['val_accuracy']\n",
    "\n",
    "loss = history.history['loss']\n",
    "val_loss = history.history['val_loss']\n",
    "\n",
    "epochs_range = range(epochs)\n",
    "\n",
    "plt.figure(figsize=(8, 8))\n",
    "plt.subplot(2, 1, 1)\n",
    "plt.plot(epochs_range, acc, label='Training Accuracy')\n",
    "plt.plot(epochs_range, val_acc, label='Validation Accuracy')\n",
    "plt.legend(loc='lower right')\n",
    "plt.title('Training and Validation Accuracy')\n",
    "\n",
    "plt.subplot(2, 1, 2)\n",
    "plt.plot(epochs_range, loss, label='Training Loss')\n",
    "plt.plot(epochs_range, val_loss, label='Validation Loss')\n",
    "plt.legend(loc='upper right')\n",
    "plt.title('Training and Validation Loss')\n",
    "plt.show()\n"
   ]
  },
  {
   "cell_type": "code",
   "execution_count": 24,
   "id": "640e8ad7",
   "metadata": {},
   "outputs": [],
   "source": [
    "model.save_weights('./checkpoints/multi3')"
   ]
  },
  {
   "cell_type": "markdown",
   "id": "1516b3a3",
   "metadata": {},
   "source": [
    "# Singel model training"
   ]
  },
  {
   "cell_type": "code",
   "execution_count": 64,
   "id": "b905576c",
   "metadata": {
    "scrolled": true
   },
   "outputs": [
    {
     "name": "stdout",
     "output_type": "stream",
     "text": [
      "Found 20280 files belonging to 2 classes.\n",
      "Using 16224 files for training.\n",
      "Found 20280 files belonging to 2 classes.\n",
      "Using 4056 files for validation.\n"
     ]
    }
   ],
   "source": [
    "batch_size = 32\n",
    "img_height = 27\n",
    "img_width = 27\n",
    "\n",
    "train_ds = tf.keras.utils.image_dataset_from_directory(\n",
    "  '/home/fish/programing/cancerClassifier/cdata/',\n",
    "  validation_split=0.2,\n",
    "  subset=\"training\",\n",
    "  seed=123,\n",
    "  image_size=(img_height, img_width),\n",
    "  batch_size=batch_size)\n",
    "\n",
    "val_ds = tf.keras.utils.image_dataset_from_directory(\n",
    "  '/home/fish/programing/cancerClassifier/cdata/',\n",
    "  validation_split=0.2,\n",
    "  subset=\"validation\",\n",
    "  seed=123,\n",
    "  image_size=(img_height, img_width),\n",
    "  batch_size=batch_size)\n",
    "\n",
    "\n",
    "class_names = train_ds.class_names"
   ]
  },
  {
   "cell_type": "code",
   "execution_count": 65,
   "id": "e6bab1ca",
   "metadata": {},
   "outputs": [],
   "source": [
    "AUTOTUNE = tf.data.AUTOTUNE\n",
    "\n",
    "train_ds = train_ds.cache().shuffle(1000).prefetch(buffer_size=AUTOTUNE)\n",
    "val_ds = val_ds.cache().prefetch(buffer_size=AUTOTUNE)\n",
    "\n"
   ]
  },
  {
   "cell_type": "code",
   "execution_count": 66,
   "id": "47a7c787",
   "metadata": {},
   "outputs": [
    {
     "name": "stderr",
     "output_type": "stream",
     "text": [
      "2023-05-15 15:52:02.862143: I tensorflow/core/common_runtime/executor.cc:1197] [/device:CPU:0] (DEBUG INFO) Executor start aborting (this does not indicate an error and you can ignore this message): INVALID_ARGUMENT: You must feed a value for placeholder tensor 'Placeholder/_4' with dtype int32 and shape [16224]\n",
      "\t [[{{node Placeholder/_4}}]]\n",
      "2023-05-15 15:52:02.862391: I tensorflow/core/common_runtime/executor.cc:1197] [/device:CPU:0] (DEBUG INFO) Executor start aborting (this does not indicate an error and you can ignore this message): INVALID_ARGUMENT: You must feed a value for placeholder tensor 'Placeholder/_0' with dtype string and shape [16224]\n",
      "\t [[{{node Placeholder/_0}}]]\n"
     ]
    },
    {
     "name": "stdout",
     "output_type": "stream",
     "text": [
      "0.25490198 1.0\n",
      "32\n"
     ]
    }
   ],
   "source": [
    "normalization_layer = tf.keras.layers.Rescaling(1./255)\n",
    "\n",
    "normalized_ds = train_ds.map(lambda x, y: (normalization_layer(x), y))\n",
    "image_batch, labels_batch = next(iter(normalized_ds))\n",
    "first_image = image_batch[10]\n",
    "# Notice the pixel values are now in `[0,1]`.\n",
    "print(np.min(first_image), np.max(first_image))\n",
    "\n",
    "print(len(image_batch))"
   ]
  },
  {
   "cell_type": "code",
   "execution_count": 98,
   "id": "7b6505db",
   "metadata": {},
   "outputs": [
    {
     "name": "stdout",
     "output_type": "stream",
     "text": [
      "Model: \"sequential_16\"\n",
      "_________________________________________________________________\n",
      " Layer (type)                Output Shape              Param #   \n",
      "=================================================================\n",
      " rescaling_21 (Rescaling)    (None, 27, 27, 3)         0         \n",
      "                                                                 \n",
      " conv2d_48 (Conv2D)          (None, 27, 27, 32)        896       \n",
      "                                                                 \n",
      " max_pooling2d_48 (MaxPoolin  (None, 13, 13, 32)       0         \n",
      " g2D)                                                            \n",
      "                                                                 \n",
      " conv2d_49 (Conv2D)          (None, 13, 13, 64)        18496     \n",
      "                                                                 \n",
      " max_pooling2d_49 (MaxPoolin  (None, 6, 6, 64)         0         \n",
      " g2D)                                                            \n",
      "                                                                 \n",
      " conv2d_50 (Conv2D)          (None, 6, 6, 128)         73856     \n",
      "                                                                 \n",
      " max_pooling2d_50 (MaxPoolin  (None, 3, 3, 128)        0         \n",
      " g2D)                                                            \n",
      "                                                                 \n",
      " flatten_16 (Flatten)        (None, 1152)              0         \n",
      "                                                                 \n",
      " dense_47 (Dense)            (None, 128)               147584    \n",
      "                                                                 \n",
      " dense_48 (Dense)            (None, 1)                 129       \n",
      "                                                                 \n",
      "=================================================================\n",
      "Total params: 240,961\n",
      "Trainable params: 240,961\n",
      "Non-trainable params: 0\n",
      "_________________________________________________________________\n"
     ]
    }
   ],
   "source": [
    "num_classes = len(class_names)\n",
    "\n",
    "model = Sequential([\n",
    "  layers.Rescaling(1./255, input_shape=(img_height, img_width, 3)),\n",
    "  layers.Conv2D(32, 3, padding='same', activation='relu'),\n",
    "  layers.MaxPooling2D(),\n",
    "  layers.Conv2D(64, 3, padding='same', activation='relu'),\n",
    "  layers.MaxPooling2D(),\n",
    "  layers.Conv2D(128, 3, padding='same', activation='relu'),\n",
    "  layers.MaxPooling2D(),\n",
    "  layers.Flatten(),\n",
    "  layers.Dense(128, activation='gelu'),\n",
    "#   layers.Dense(128, activation='gelu'),\n",
    "  layers.Dense(1, activation='sigmoid')\n",
    "])\n",
    "\n",
    "model.compile(optimizer='Adam',\n",
    "              loss=tf.keras.losses.BinaryCrossentropy(),\n",
    "              metrics=['accuracy'])\n",
    "\n",
    "model.summary()\n"
   ]
  },
  {
   "cell_type": "code",
   "execution_count": 99,
   "id": "71c3b5a7",
   "metadata": {
    "scrolled": true
   },
   "outputs": [
    {
     "name": "stdout",
     "output_type": "stream",
     "text": [
      "Epoch 1/8\n",
      "507/507 [==============================] - 6s 10ms/step - loss: 0.5869 - accuracy: 0.6922 - val_loss: 0.4556 - val_accuracy: 0.7850\n",
      "Epoch 2/8\n",
      "507/507 [==============================] - 5s 10ms/step - loss: 0.4469 - accuracy: 0.7906 - val_loss: 0.3936 - val_accuracy: 0.8203\n",
      "Epoch 3/8\n",
      "507/507 [==============================] - 5s 10ms/step - loss: 0.3989 - accuracy: 0.8235 - val_loss: 0.3830 - val_accuracy: 0.8215\n",
      "Epoch 4/8\n",
      "507/507 [==============================] - 5s 10ms/step - loss: 0.3666 - accuracy: 0.8348 - val_loss: 0.3921 - val_accuracy: 0.8151\n",
      "Epoch 5/8\n",
      "507/507 [==============================] - 5s 11ms/step - loss: 0.3439 - accuracy: 0.8462 - val_loss: 0.3188 - val_accuracy: 0.8570\n",
      "Epoch 6/8\n",
      "507/507 [==============================] - 5s 10ms/step - loss: 0.3283 - accuracy: 0.8572 - val_loss: 0.3118 - val_accuracy: 0.8609\n",
      "Epoch 7/8\n",
      "507/507 [==============================] - 5s 11ms/step - loss: 0.3124 - accuracy: 0.8634 - val_loss: 0.3203 - val_accuracy: 0.8627\n",
      "Epoch 8/8\n",
      "507/507 [==============================] - 5s 11ms/step - loss: 0.3115 - accuracy: 0.8658 - val_loss: 0.3460 - val_accuracy: 0.8341\n"
     ]
    }
   ],
   "source": [
    "epochs=8\n",
    "history = model.fit(\n",
    "  train_ds,\n",
    "  validation_data=val_ds,\n",
    "  epochs=epochs\n",
    ")\n"
   ]
  },
  {
   "cell_type": "code",
   "execution_count": 100,
   "id": "5e47df18",
   "metadata": {},
   "outputs": [
    {
     "data": {
      "image/png": "[encoded data removed]",
      "text/plain": [
       "<Figure size 800x800 with 2 Axes>"
      ]
     },
     "metadata": {},
     "output_type": "display_data"
    }
   ],
   "source": [
    "acc = history.history['accuracy']\n",
    "val_acc = history.history['val_accuracy']\n",
    "\n",
    "loss = history.history['loss']\n",
    "val_loss = history.history['val_loss']\n",
    "\n",
    "epochs_range = range(epochs)\n",
    "\n",
    "plt.figure(figsize=(8, 8))\n",
    "plt.subplot(1, 2, 1)\n",
    "plt.plot(epochs_range, acc, label='Training Accuracy')\n",
    "plt.plot(epochs_range, val_acc, label='Validation Accuracy')\n",
    "plt.legend(loc='lower right')\n",
    "plt.title('Training and Validation Accuracy')\n",
    "\n",
    "plt.subplot(1, 2, 2)\n",
    "plt.plot(epochs_range, loss, label='Training Loss')\n",
    "plt.plot(epochs_range, val_loss, label='Validation Loss')\n",
    "plt.legend(loc='upper right')\n",
    "plt.title('Training and Validation Loss')\n",
    "plt.show()\n"
   ]
  },
  {
   "cell_type": "markdown",
   "id": "ce0b70db",
   "metadata": {},
   "source": [
    "# Metrics"
   ]
  },
  {
   "cell_type": "code",
   "execution_count": null,
   "id": "c17f396a",
   "metadata": {},
   "outputs": [],
   "source": []
  },
  {
   "cell_type": "code",
   "execution_count": 6,
   "id": "3d9233aa",
   "metadata": {},
   "outputs": [
    {
     "data": {
      "text/plain": [
       "<tensorflow.python.checkpoint.checkpoint.CheckpointLoadStatus at 0x7fa2f94cf0d0>"
      ]
     },
     "execution_count": 6,
     "metadata": {},
     "output_type": "execute_result"
    }
   ],
   "source": [
    "\n",
    "# Restore the weights\n",
    "model.load_weights('./checkpoints/b1')"
   ]
  },
  {
   "cell_type": "code",
   "execution_count": 101,
   "id": "995d256e",
   "metadata": {},
   "outputs": [],
   "source": [
    "# Save the weights\n",
    "model.save_weights('./checkpoints/cbase')\n",
    "\n",
    "\n"
   ]
  },
  {
   "cell_type": "code",
   "execution_count": null,
   "id": "2ee5b938",
   "metadata": {},
   "outputs": [],
   "source": []
  },
  {
   "cell_type": "code",
   "execution_count": null,
   "id": "ab8fcdb5",
   "metadata": {},
   "outputs": [],
   "source": []
  },
  {
   "cell_type": "code",
   "execution_count": null,
   "id": "5b94d50b",
   "metadata": {},
   "outputs": [],
   "source": []
  },
  {
   "cell_type": "code",
   "execution_count": null,
   "id": "b6a0d3e9",
   "metadata": {},
   "outputs": [],
   "source": []
  },
  {
   "cell_type": "code",
   "execution_count": null,
   "id": "9e2b3eba",
   "metadata": {},
   "outputs": [],
   "source": []
  },
  {
   "cell_type": "code",
   "execution_count": null,
   "id": "4f86c9bc",
   "metadata": {},
   "outputs": [],
   "source": []
  },
  {
   "cell_type": "code",
   "execution_count": null,
   "id": "603a6a75",
   "metadata": {},
   "outputs": [],
   "source": []
  },
  {
   "cell_type": "code",
   "execution_count": null,
   "id": "c8ec6f9f",
   "metadata": {},
   "outputs": [],
   "source": []
  },
  {
   "cell_type": "code",
   "execution_count": null,
   "id": "d1643bba",
   "metadata": {},
   "outputs": [],
   "source": []
  },
  {
   "cell_type": "markdown",
   "id": "b76694db",
   "metadata": {},
   "source": [
    "# helper things"
   ]
  },
  {
   "cell_type": "code",
   "execution_count": 9,
   "id": "4fdc5c4e",
   "metadata": {},
   "outputs": [],
   "source": [
    "import shutil\n",
    "src_path = r\"/home/fish/programing/cancerClassifier/patch_images/\"\n",
    "dst_path = r\"/home/fish/programing/cancerClassifier/cdata/\"\n",
    "\n",
    "# split the dataset \n",
    "# dont runn unless you wanna split the data again (you dont)\n",
    "with open('data_labels_mainData.csv', 'r') as file:\n",
    "    \n",
    "    for line in file.readlines()[1:]:\n",
    "        li = line.split(',')\n",
    "        if li[3] == '0\\n':\n",
    "            shutil.copyfile(src_path + str(li[2]), dst_path + 'N' + '/' + str(li[2]))\n",
    "        else:\n",
    "            shutil.copyfile(src_path + str(li[2]), dst_path + 'Y' + '/' + str(li[2]))\n",
    "    \n",
    "        \n",
    "        \n",
    "\n"
   ]
  },
  {
   "cell_type": "code",
   "execution_count": null,
   "id": "a4a87eac",
   "metadata": {},
   "outputs": [],
   "source": []
  },
  {
   "cell_type": "code",
   "execution_count": null,
   "id": "9f30ea0f",
   "metadata": {},
   "outputs": [],
   "source": []
  },
  {
   "cell_type": "code",
   "execution_count": null,
   "id": "0bc8c1e6",
   "metadata": {},
   "outputs": [],
   "source": []
  },
  {
   "cell_type": "markdown",
   "id": "ed2c770f",
   "metadata": {},
   "source": [
    "# Cancer Classifier"
   ]
  },
  {
   "cell_type": "code",
   "execution_count": 1,
   "id": "f0561616",
   "metadata": {},
   "outputs": [
    {
     "name": "stderr",
     "output_type": "stream",
     "text": [
      "2023-05-07 08:10:36.801954: I tensorflow/core/platform/cpu_feature_guard.cc:193] This TensorFlow binary is optimized with oneAPI Deep Neural Network Library (oneDNN) to use the following CPU instructions in performance-critical operations:  SSE4.1 SSE4.2\n",
      "To enable them in other operations, rebuild TensorFlow with the appropriate compiler flags.\n"
     ]
    }
   ],
   "source": [
    "import tensorflow as tf\n",
    "import os\n",
    "import numpy as np\n",
    "import pandas as pd\n",
    "import matplotlib.pyplot as plt\n",
    "from tensorflow import keras\n",
    "from tensorflow.keras import layers\n",
    "from tensorflow.keras.models import Sequential\n",
    "import cv2\n",
    "import imghdr"
   ]
  },
  {
   "cell_type": "code",
   "execution_count": 2,
   "id": "f0f01b68",
   "metadata": {},
   "outputs": [],
   "source": [
    "data_dir = '/Users/shehanjayaratne/Documents/RMIT programming/Machine Learning/Assignment 2/CancerousCells/'"
   ]
  },
  {
   "cell_type": "code",
   "execution_count": 3,
   "id": "8072665e",
   "metadata": {},
   "outputs": [
    {
     "data": {
      "text/plain": [
       "['.DS_Store', 'Cancer', 'Non-cancer']"
      ]
     },
     "execution_count": 3,
     "metadata": {},
     "output_type": "execute_result"
    }
   ],
   "source": [
    "os.listdir(data_dir)"
   ]
  },
  {
   "cell_type": "code",
   "execution_count": 4,
   "id": "07de0eaf",
   "metadata": {},
   "outputs": [],
   "source": [
    "img =cv2.imread(os.path.join(data_dir,'Cancer','8820.png'))"
   ]
  },
  {
   "cell_type": "code",
   "execution_count": 5,
   "id": "643278e4",
   "metadata": {},
   "outputs": [
    {
     "data": {
      "text/plain": [
       "numpy.ndarray"
      ]
     },
     "execution_count": 5,
     "metadata": {},
     "output_type": "execute_result"
    }
   ],
   "source": [
    "type(img)"
   ]
  },
  {
   "cell_type": "code",
   "execution_count": 6,
   "id": "7ae95a76",
   "metadata": {},
   "outputs": [
    {
     "data": {
      "text/plain": [
       "(27, 27, 3)"
      ]
     },
     "execution_count": 6,
     "metadata": {},
     "output_type": "execute_result"
    }
   ],
   "source": [
    "img.shape"
   ]
  },
  {
   "cell_type": "code",
   "execution_count": 7,
   "id": "5ae26558",
   "metadata": {},
   "outputs": [
    {
     "data": {
      "text/plain": [
       "<matplotlib.image.AxesImage at 0x7fe0c2fdb2e0>"
      ]
     },
     "execution_count": 7,
     "metadata": {},
     "output_type": "execute_result"
    },
    {
     "data": {
      "image/png": "[encoded data removed]",
      "text/plain": [
       "<Figure size 640x480 with 1 Axes>"
      ]
     },
     "metadata": {},
     "output_type": "display_data"
    }
   ],
   "source": [
    "plt.imshow(img) "
   ]
  },
  {
   "cell_type": "code",
   "execution_count": 8,
   "id": "fa3cc23f",
   "metadata": {},
   "outputs": [
    {
     "data": {
      "image/png": "[encoded data removed]",
      "text/plain": [
       "<Figure size 640x480 with 1 Axes>"
      ]
     },
     "metadata": {},
     "output_type": "display_data"
    }
   ],
   "source": [
    "plt.imshow(cv2.cvtColor(img,cv2.COLOR_BGR2RGB))\n",
    "plt.show()"
   ]
  },
  {
   "cell_type": "code",
   "execution_count": 9,
   "id": "195ba831",
   "metadata": {},
   "outputs": [
    {
     "name": "stdout",
     "output_type": "stream",
     "text": [
      "Found 9269 files belonging to 2 classes.\n"
     ]
    },
    {
     "name": "stderr",
     "output_type": "stream",
     "text": [
      "2023-05-07 08:10:55.472041: I tensorflow/core/platform/cpu_feature_guard.cc:193] This TensorFlow binary is optimized with oneAPI Deep Neural Network Library (oneDNN) to use the following CPU instructions in performance-critical operations:  SSE4.1 SSE4.2\n",
      "To enable them in other operations, rebuild TensorFlow with the appropriate compiler flags.\n"
     ]
    }
   ],
   "source": [
    "data = tf.keras.utils.image_dataset_from_directory(\n",
    "    directory = data_dir,\n",
    "    image_size = (27,27)\n",
    ")"
   ]
  },
  {
   "cell_type": "code",
   "execution_count": 10,
   "id": "b6f9aa5f",
   "metadata": {},
   "outputs": [],
   "source": [
    "data_iterator = data.as_numpy_iterator()"
   ]
  },
  {
   "cell_type": "code",
   "execution_count": 11,
   "id": "61eb7da7",
   "metadata": {},
   "outputs": [],
   "source": [
    "batch = data_iterator.next()"
   ]
  },
  {
   "cell_type": "code",
   "execution_count": 12,
   "id": "d91630bc",
   "metadata": {},
   "outputs": [
    {
     "data": {
      "text/plain": [
       "(array([[[[123.,  67., 134.],\n",
       "          [165., 105., 165.],\n",
       "          [205., 144., 200.],\n",
       "          ...,\n",
       "          [253., 222., 242.],\n",
       "          [218., 169., 205.],\n",
       "          [202., 147., 197.]],\n",
       " \n",
       "         [[162.,  95., 160.],\n",
       "          [217., 154., 211.],\n",
       "          [212., 156., 206.],\n",
       "          ...,\n",
       "          [255., 228., 252.],\n",
       "          [204., 151., 193.],\n",
       "          [209., 157., 209.]],\n",
       " \n",
       "         [[238., 177., 225.],\n",
       "          [239., 178., 232.],\n",
       "          [190., 131., 191.],\n",
       "          ...,\n",
       "          [241., 200., 231.],\n",
       "          [195., 144., 186.],\n",
       "          [225., 174., 224.]],\n",
       " \n",
       "         ...,\n",
       " \n",
       "         [[174., 149., 192.],\n",
       "          [166., 131., 176.],\n",
       "          [212., 168., 213.],\n",
       "          ...,\n",
       "          [236., 202., 230.],\n",
       "          [235., 208., 230.],\n",
       "          [255., 234., 251.]],\n",
       " \n",
       "         [[229., 199., 226.],\n",
       "          [205., 163., 204.],\n",
       "          [240., 188., 245.],\n",
       "          ...,\n",
       "          [244., 223., 233.],\n",
       "          [255., 241., 247.],\n",
       "          [255., 248., 253.]],\n",
       " \n",
       "         [[237., 201., 235.],\n",
       "          [225., 178., 227.],\n",
       "          [189., 135., 198.],\n",
       "          ...,\n",
       "          [252., 237., 244.],\n",
       "          [253., 243., 247.],\n",
       "          [248., 241., 245.]]],\n",
       " \n",
       " \n",
       "        [[[230., 166., 213.],\n",
       "          [229., 165., 212.],\n",
       "          [218., 154., 200.],\n",
       "          ...,\n",
       "          [219., 158., 206.],\n",
       "          [221., 160., 208.],\n",
       "          [229., 172., 218.]],\n",
       " \n",
       "         [[232., 165., 212.],\n",
       "          [239., 172., 219.],\n",
       "          [237., 171., 215.],\n",
       "          ...,\n",
       "          [210., 149., 197.],\n",
       "          [213., 153., 201.],\n",
       "          [216., 159., 206.]],\n",
       " \n",
       "         [[226., 157., 203.],\n",
       "          [234., 165., 212.],\n",
       "          [246., 177., 223.],\n",
       "          ...,\n",
       "          [222., 160., 209.],\n",
       "          [215., 154., 203.],\n",
       "          [215., 156., 204.]],\n",
       " \n",
       "         ...,\n",
       " \n",
       "         [[200., 143., 193.],\n",
       "          [205., 147., 198.],\n",
       "          [215., 159., 201.],\n",
       "          ...,\n",
       "          [229., 167., 219.],\n",
       "          [226., 166., 212.],\n",
       "          [228., 167., 213.]],\n",
       " \n",
       "         [[213., 156., 205.],\n",
       "          [203., 144., 194.],\n",
       "          [213., 155., 200.],\n",
       "          ...,\n",
       "          [240., 178., 228.],\n",
       "          [231., 171., 216.],\n",
       "          [229., 169., 212.]],\n",
       " \n",
       "         [[230., 172., 220.],\n",
       "          [215., 156., 205.],\n",
       "          [208., 148., 195.],\n",
       "          ...,\n",
       "          [232., 170., 218.],\n",
       "          [224., 162., 208.],\n",
       "          [214., 153., 198.]]],\n",
       " \n",
       " \n",
       "        [[[175., 115., 181.],\n",
       "          [191., 135., 202.],\n",
       "          [199., 151., 211.],\n",
       "          ...,\n",
       "          [156.,  92., 168.],\n",
       "          [163.,  97., 165.],\n",
       "          [157.,  92., 153.]],\n",
       " \n",
       "         [[216., 158., 209.],\n",
       "          [227., 176., 226.],\n",
       "          [232., 189., 235.],\n",
       "          ...,\n",
       "          [156.,  85., 160.],\n",
       "          [178., 105., 167.],\n",
       "          [194., 121., 176.]],\n",
       " \n",
       "         [[238., 180., 220.],\n",
       "          [247., 199., 235.],\n",
       "          [252., 213., 247.],\n",
       "          ...,\n",
       "          [172.,  97., 169.],\n",
       "          [199., 120., 178.],\n",
       "          [218., 139., 189.]],\n",
       " \n",
       "         ...,\n",
       " \n",
       "         [[236., 199., 236.],\n",
       "          [239., 201., 237.],\n",
       "          [244., 204., 237.],\n",
       "          ...,\n",
       "          [255., 219., 240.],\n",
       "          [250., 208., 238.],\n",
       "          [233., 183., 223.]],\n",
       " \n",
       "         [[248., 210., 242.],\n",
       "          [252., 212., 243.],\n",
       "          [248., 204., 235.],\n",
       "          ...,\n",
       "          [255., 218., 238.],\n",
       "          [255., 214., 246.],\n",
       "          [235., 181., 225.]],\n",
       " \n",
       "         [[248., 209., 234.],\n",
       "          [255., 218., 243.],\n",
       "          [255., 209., 237.],\n",
       "          ...,\n",
       "          [255., 218., 240.],\n",
       "          [248., 200., 236.],\n",
       "          [233., 177., 225.]]],\n",
       " \n",
       " \n",
       "        ...,\n",
       " \n",
       " \n",
       "        [[[208., 124., 163.],\n",
       "          [209., 125., 171.],\n",
       "          [225., 141., 195.],\n",
       "          ...,\n",
       "          [182., 126., 187.],\n",
       "          [176., 112., 164.],\n",
       "          [203., 132., 174.]],\n",
       " \n",
       "         [[206., 122., 163.],\n",
       "          [220., 137., 186.],\n",
       "          [219., 137., 194.],\n",
       "          ...,\n",
       "          [202., 142., 203.],\n",
       "          [192., 125., 178.],\n",
       "          [191., 119., 163.]],\n",
       " \n",
       "         [[215., 133., 176.],\n",
       "          [221., 140., 192.],\n",
       "          [214., 135., 194.],\n",
       "          ...,\n",
       "          [202., 138., 197.],\n",
       "          [192., 122., 176.],\n",
       "          [168.,  94., 143.]],\n",
       " \n",
       "         ...,\n",
       " \n",
       "         [[182., 126., 187.],\n",
       "          [185., 130., 189.],\n",
       "          [208., 152., 207.],\n",
       "          ...,\n",
       "          [169., 108., 171.],\n",
       "          [178., 109., 161.],\n",
       "          [207., 131., 166.]],\n",
       " \n",
       "         [[209., 147., 204.],\n",
       "          [213., 152., 210.],\n",
       "          [222., 162., 219.],\n",
       "          ...,\n",
       "          [170., 104., 163.],\n",
       "          [191., 119., 168.],\n",
       "          [207., 129., 165.]],\n",
       " \n",
       "         [[208., 141., 196.],\n",
       "          [218., 151., 210.],\n",
       "          [217., 153., 215.],\n",
       "          ...,\n",
       "          [190., 119., 171.],\n",
       "          [211., 135., 182.],\n",
       "          [208., 128., 167.]]],\n",
       " \n",
       " \n",
       "        [[[112.,  65., 139.],\n",
       "          [110.,  64., 139.],\n",
       "          [ 93.,  47., 125.],\n",
       "          ...,\n",
       "          [197., 138., 192.],\n",
       "          [225., 164., 219.],\n",
       "          [218., 156., 211.]],\n",
       " \n",
       "         [[110.,  60., 141.],\n",
       "          [ 98.,  49., 127.],\n",
       "          [ 94.,  47., 122.],\n",
       "          ...,\n",
       "          [196., 133., 191.],\n",
       "          [218., 153., 212.],\n",
       "          [214., 148., 206.]],\n",
       " \n",
       "         [[121.,  67., 152.],\n",
       "          [102.,  50., 129.],\n",
       "          [104.,  55., 127.],\n",
       "          ...,\n",
       "          [183., 116., 178.],\n",
       "          [202., 134., 195.],\n",
       "          [204., 135., 194.]],\n",
       " \n",
       "         ...,\n",
       " \n",
       "         [[171., 108., 183.],\n",
       "          [166., 104., 177.],\n",
       "          [162., 102., 174.],\n",
       "          ...,\n",
       "          [176., 116., 184.],\n",
       "          [184., 122., 191.],\n",
       "          [196., 132., 199.]],\n",
       " \n",
       "         [[160.,  97., 171.],\n",
       "          [166., 104., 177.],\n",
       "          [180., 120., 193.],\n",
       "          ...,\n",
       "          [203., 139., 206.],\n",
       "          [192., 127., 195.],\n",
       "          [193., 126., 193.]],\n",
       " \n",
       "         [[172., 112., 185.],\n",
       "          [179., 118., 191.],\n",
       "          [170., 109., 184.],\n",
       "          ...,\n",
       "          [187., 119., 184.],\n",
       "          [173., 104., 171.],\n",
       "          [188., 120., 187.]]],\n",
       " \n",
       " \n",
       "        [[[196., 158., 217.],\n",
       "          [194., 157., 219.],\n",
       "          [176., 140., 203.],\n",
       "          ...,\n",
       "          [219., 192., 230.],\n",
       "          [221., 194., 234.],\n",
       "          [219., 192., 233.]],\n",
       " \n",
       "         [[199., 161., 222.],\n",
       "          [209., 173., 235.],\n",
       "          [187., 152., 215.],\n",
       "          ...,\n",
       "          [213., 185., 227.],\n",
       "          [213., 184., 227.],\n",
       "          [213., 184., 227.]],\n",
       " \n",
       "         [[183., 146., 210.],\n",
       "          [196., 161., 224.],\n",
       "          [168., 134., 198.],\n",
       "          ...,\n",
       "          [197., 167., 214.],\n",
       "          [202., 171., 218.],\n",
       "          [207., 176., 222.]],\n",
       " \n",
       "         ...,\n",
       " \n",
       "         [[208., 180., 220.],\n",
       "          [208., 178., 224.],\n",
       "          [217., 186., 236.],\n",
       "          ...,\n",
       "          [208., 188., 228.],\n",
       "          [235., 216., 250.],\n",
       "          [221., 202., 235.]],\n",
       " \n",
       "         [[214., 184., 227.],\n",
       "          [207., 176., 224.],\n",
       "          [196., 164., 216.],\n",
       "          ...,\n",
       "          [199., 178., 225.],\n",
       "          [231., 212., 250.],\n",
       "          [212., 193., 228.]],\n",
       " \n",
       "         [[204., 173., 220.],\n",
       "          [211., 178., 228.],\n",
       "          [194., 161., 214.],\n",
       "          ...,\n",
       "          [204., 180., 237.],\n",
       "          [233., 212., 255.],\n",
       "          [213., 194., 235.]]]], dtype=float32),\n",
       " array([1, 1, 1, 1, 1, 1, 0, 1, 1, 1, 0, 1, 0, 1, 0, 0, 0, 1, 1, 1, 1, 0,\n",
       "        1, 0, 1, 0, 0, 1, 0, 1, 0, 0], dtype=int32))"
      ]
     },
     "execution_count": 12,
     "metadata": {},
     "output_type": "execute_result"
    }
   ],
   "source": [
    "batch"
   ]
  },
  {
   "cell_type": "code",
   "execution_count": 13,
   "id": "4db2a5ae",
   "metadata": {},
   "outputs": [
    {
     "data": {
      "text/plain": [
       "(32, 27, 27, 3)"
      ]
     },
     "execution_count": 13,
     "metadata": {},
     "output_type": "execute_result"
    }
   ],
   "source": [
    "batch[0].shape"
   ]
  },
  {
   "cell_type": "code",
   "execution_count": 14,
   "id": "602cb1b6",
   "metadata": {},
   "outputs": [
    {
     "data": {
      "text/plain": [
       "array([[[[0.48235294, 0.2627451 , 0.5254902 ],\n",
       "         [0.64705884, 0.4117647 , 0.64705884],\n",
       "         [0.8039216 , 0.5647059 , 0.78431374],\n",
       "         ...,\n",
       "         [0.99215686, 0.87058824, 0.9490196 ],\n",
       "         [0.85490197, 0.6627451 , 0.8039216 ],\n",
       "         [0.7921569 , 0.5764706 , 0.77254903]],\n",
       "\n",
       "        [[0.63529414, 0.37254903, 0.627451  ],\n",
       "         [0.8509804 , 0.6039216 , 0.827451  ],\n",
       "         [0.83137256, 0.6117647 , 0.80784315],\n",
       "         ...,\n",
       "         [1.        , 0.89411765, 0.9882353 ],\n",
       "         [0.8       , 0.5921569 , 0.75686276],\n",
       "         [0.81960785, 0.6156863 , 0.81960785]],\n",
       "\n",
       "        [[0.93333334, 0.69411767, 0.88235295],\n",
       "         [0.9372549 , 0.69803923, 0.9098039 ],\n",
       "         [0.74509805, 0.5137255 , 0.7490196 ],\n",
       "         ...,\n",
       "         [0.94509804, 0.78431374, 0.90588236],\n",
       "         [0.7647059 , 0.5647059 , 0.7294118 ],\n",
       "         [0.88235295, 0.68235296, 0.8784314 ]],\n",
       "\n",
       "        ...,\n",
       "\n",
       "        [[0.68235296, 0.58431375, 0.7529412 ],\n",
       "         [0.6509804 , 0.5137255 , 0.6901961 ],\n",
       "         [0.83137256, 0.65882355, 0.8352941 ],\n",
       "         ...,\n",
       "         [0.9254902 , 0.7921569 , 0.9019608 ],\n",
       "         [0.92156863, 0.8156863 , 0.9019608 ],\n",
       "         [1.        , 0.91764706, 0.9843137 ]],\n",
       "\n",
       "        [[0.8980392 , 0.78039217, 0.8862745 ],\n",
       "         [0.8039216 , 0.6392157 , 0.8       ],\n",
       "         [0.9411765 , 0.7372549 , 0.9607843 ],\n",
       "         ...,\n",
       "         [0.95686275, 0.8745098 , 0.9137255 ],\n",
       "         [1.        , 0.94509804, 0.96862745],\n",
       "         [1.        , 0.972549  , 0.99215686]],\n",
       "\n",
       "        [[0.92941177, 0.7882353 , 0.92156863],\n",
       "         [0.88235295, 0.69803923, 0.8901961 ],\n",
       "         [0.7411765 , 0.5294118 , 0.7764706 ],\n",
       "         ...,\n",
       "         [0.9882353 , 0.92941177, 0.95686275],\n",
       "         [0.99215686, 0.9529412 , 0.96862745],\n",
       "         [0.972549  , 0.94509804, 0.9607843 ]]],\n",
       "\n",
       "\n",
       "       [[[0.9019608 , 0.6509804 , 0.8352941 ],\n",
       "         [0.8980392 , 0.64705884, 0.83137256],\n",
       "         [0.85490197, 0.6039216 , 0.78431374],\n",
       "         ...,\n",
       "         [0.85882354, 0.61960787, 0.80784315],\n",
       "         [0.8666667 , 0.627451  , 0.8156863 ],\n",
       "         [0.8980392 , 0.6745098 , 0.85490197]],\n",
       "\n",
       "        [[0.9098039 , 0.64705884, 0.83137256],\n",
       "         [0.9372549 , 0.6745098 , 0.85882354],\n",
       "         [0.92941177, 0.67058825, 0.84313726],\n",
       "         ...,\n",
       "         [0.8235294 , 0.58431375, 0.77254903],\n",
       "         [0.8352941 , 0.6       , 0.7882353 ],\n",
       "         [0.84705883, 0.62352943, 0.80784315]],\n",
       "\n",
       "        [[0.8862745 , 0.6156863 , 0.79607844],\n",
       "         [0.91764706, 0.64705884, 0.83137256],\n",
       "         [0.9647059 , 0.69411767, 0.8745098 ],\n",
       "         ...,\n",
       "         [0.87058824, 0.627451  , 0.81960785],\n",
       "         [0.84313726, 0.6039216 , 0.79607844],\n",
       "         [0.84313726, 0.6117647 , 0.8       ]],\n",
       "\n",
       "        ...,\n",
       "\n",
       "        [[0.78431374, 0.56078434, 0.75686276],\n",
       "         [0.8039216 , 0.5764706 , 0.7764706 ],\n",
       "         [0.84313726, 0.62352943, 0.7882353 ],\n",
       "         ...,\n",
       "         [0.8980392 , 0.654902  , 0.85882354],\n",
       "         [0.8862745 , 0.6509804 , 0.83137256],\n",
       "         [0.89411765, 0.654902  , 0.8352941 ]],\n",
       "\n",
       "        [[0.8352941 , 0.6117647 , 0.8039216 ],\n",
       "         [0.79607844, 0.5647059 , 0.7607843 ],\n",
       "         [0.8352941 , 0.60784316, 0.78431374],\n",
       "         ...,\n",
       "         [0.9411765 , 0.69803923, 0.89411765],\n",
       "         [0.90588236, 0.67058825, 0.84705883],\n",
       "         [0.8980392 , 0.6627451 , 0.83137256]],\n",
       "\n",
       "        [[0.9019608 , 0.6745098 , 0.8627451 ],\n",
       "         [0.84313726, 0.6117647 , 0.8039216 ],\n",
       "         [0.8156863 , 0.5803922 , 0.7647059 ],\n",
       "         ...,\n",
       "         [0.9098039 , 0.6666667 , 0.85490197],\n",
       "         [0.8784314 , 0.63529414, 0.8156863 ],\n",
       "         [0.8392157 , 0.6       , 0.7764706 ]]],\n",
       "\n",
       "\n",
       "       [[[0.6862745 , 0.4509804 , 0.70980394],\n",
       "         [0.7490196 , 0.5294118 , 0.7921569 ],\n",
       "         [0.78039217, 0.5921569 , 0.827451  ],\n",
       "         ...,\n",
       "         [0.6117647 , 0.36078432, 0.65882355],\n",
       "         [0.6392157 , 0.38039216, 0.64705884],\n",
       "         [0.6156863 , 0.36078432, 0.6       ]],\n",
       "\n",
       "        [[0.84705883, 0.61960787, 0.81960785],\n",
       "         [0.8901961 , 0.6901961 , 0.8862745 ],\n",
       "         [0.9098039 , 0.7411765 , 0.92156863],\n",
       "         ...,\n",
       "         [0.6117647 , 0.33333334, 0.627451  ],\n",
       "         [0.69803923, 0.4117647 , 0.654902  ],\n",
       "         [0.7607843 , 0.4745098 , 0.6901961 ]],\n",
       "\n",
       "        [[0.93333334, 0.7058824 , 0.8627451 ],\n",
       "         [0.96862745, 0.78039217, 0.92156863],\n",
       "         [0.9882353 , 0.8352941 , 0.96862745],\n",
       "         ...,\n",
       "         [0.6745098 , 0.38039216, 0.6627451 ],\n",
       "         [0.78039217, 0.47058824, 0.69803923],\n",
       "         [0.85490197, 0.54509807, 0.7411765 ]],\n",
       "\n",
       "        ...,\n",
       "\n",
       "        [[0.9254902 , 0.78039217, 0.9254902 ],\n",
       "         [0.9372549 , 0.7882353 , 0.92941177],\n",
       "         [0.95686275, 0.8       , 0.92941177],\n",
       "         ...,\n",
       "         [1.        , 0.85882354, 0.9411765 ],\n",
       "         [0.98039216, 0.8156863 , 0.93333334],\n",
       "         [0.9137255 , 0.7176471 , 0.8745098 ]],\n",
       "\n",
       "        [[0.972549  , 0.8235294 , 0.9490196 ],\n",
       "         [0.9882353 , 0.83137256, 0.9529412 ],\n",
       "         [0.972549  , 0.8       , 0.92156863],\n",
       "         ...,\n",
       "         [1.        , 0.85490197, 0.93333334],\n",
       "         [1.        , 0.8392157 , 0.9647059 ],\n",
       "         [0.92156863, 0.70980394, 0.88235295]],\n",
       "\n",
       "        [[0.972549  , 0.81960785, 0.91764706],\n",
       "         [1.        , 0.85490197, 0.9529412 ],\n",
       "         [1.        , 0.81960785, 0.92941177],\n",
       "         ...,\n",
       "         [1.        , 0.85490197, 0.9411765 ],\n",
       "         [0.972549  , 0.78431374, 0.9254902 ],\n",
       "         [0.9137255 , 0.69411767, 0.88235295]]],\n",
       "\n",
       "\n",
       "       ...,\n",
       "\n",
       "\n",
       "       [[[0.8156863 , 0.4862745 , 0.6392157 ],\n",
       "         [0.81960785, 0.49019608, 0.67058825],\n",
       "         [0.88235295, 0.5529412 , 0.7647059 ],\n",
       "         ...,\n",
       "         [0.7137255 , 0.49411765, 0.73333335],\n",
       "         [0.6901961 , 0.4392157 , 0.6431373 ],\n",
       "         [0.79607844, 0.5176471 , 0.68235296]],\n",
       "\n",
       "        [[0.80784315, 0.47843137, 0.6392157 ],\n",
       "         [0.8627451 , 0.5372549 , 0.7294118 ],\n",
       "         [0.85882354, 0.5372549 , 0.7607843 ],\n",
       "         ...,\n",
       "         [0.7921569 , 0.5568628 , 0.79607844],\n",
       "         [0.7529412 , 0.49019608, 0.69803923],\n",
       "         [0.7490196 , 0.46666667, 0.6392157 ]],\n",
       "\n",
       "        [[0.84313726, 0.52156866, 0.6901961 ],\n",
       "         [0.8666667 , 0.54901963, 0.7529412 ],\n",
       "         [0.8392157 , 0.5294118 , 0.7607843 ],\n",
       "         ...,\n",
       "         [0.7921569 , 0.5411765 , 0.77254903],\n",
       "         [0.7529412 , 0.47843137, 0.6901961 ],\n",
       "         [0.65882355, 0.36862746, 0.56078434]],\n",
       "\n",
       "        ...,\n",
       "\n",
       "        [[0.7137255 , 0.49411765, 0.73333335],\n",
       "         [0.7254902 , 0.50980395, 0.7411765 ],\n",
       "         [0.8156863 , 0.59607846, 0.8117647 ],\n",
       "         ...,\n",
       "         [0.6627451 , 0.42352942, 0.67058825],\n",
       "         [0.69803923, 0.42745098, 0.6313726 ],\n",
       "         [0.8117647 , 0.5137255 , 0.6509804 ]],\n",
       "\n",
       "        [[0.81960785, 0.5764706 , 0.8       ],\n",
       "         [0.8352941 , 0.59607846, 0.8235294 ],\n",
       "         [0.87058824, 0.63529414, 0.85882354],\n",
       "         ...,\n",
       "         [0.6666667 , 0.40784314, 0.6392157 ],\n",
       "         [0.7490196 , 0.46666667, 0.65882355],\n",
       "         [0.8117647 , 0.5058824 , 0.64705884]],\n",
       "\n",
       "        [[0.8156863 , 0.5529412 , 0.76862746],\n",
       "         [0.85490197, 0.5921569 , 0.8235294 ],\n",
       "         [0.8509804 , 0.6       , 0.84313726],\n",
       "         ...,\n",
       "         [0.74509805, 0.46666667, 0.67058825],\n",
       "         [0.827451  , 0.5294118 , 0.7137255 ],\n",
       "         [0.8156863 , 0.5019608 , 0.654902  ]]],\n",
       "\n",
       "\n",
       "       [[[0.4392157 , 0.25490198, 0.54509807],\n",
       "         [0.43137255, 0.2509804 , 0.54509807],\n",
       "         [0.3647059 , 0.18431373, 0.49019608],\n",
       "         ...,\n",
       "         [0.77254903, 0.5411765 , 0.7529412 ],\n",
       "         [0.88235295, 0.6431373 , 0.85882354],\n",
       "         [0.85490197, 0.6117647 , 0.827451  ]],\n",
       "\n",
       "        [[0.43137255, 0.23529412, 0.5529412 ],\n",
       "         [0.38431373, 0.19215687, 0.49803922],\n",
       "         [0.36862746, 0.18431373, 0.47843137],\n",
       "         ...,\n",
       "         [0.76862746, 0.52156866, 0.7490196 ],\n",
       "         [0.85490197, 0.6       , 0.83137256],\n",
       "         [0.8392157 , 0.5803922 , 0.80784315]],\n",
       "\n",
       "        [[0.4745098 , 0.2627451 , 0.59607846],\n",
       "         [0.4       , 0.19607843, 0.5058824 ],\n",
       "         [0.40784314, 0.21568628, 0.49803922],\n",
       "         ...,\n",
       "         [0.7176471 , 0.45490196, 0.69803923],\n",
       "         [0.7921569 , 0.5254902 , 0.7647059 ],\n",
       "         [0.8       , 0.5294118 , 0.7607843 ]],\n",
       "\n",
       "        ...,\n",
       "\n",
       "        [[0.67058825, 0.42352942, 0.7176471 ],\n",
       "         [0.6509804 , 0.40784314, 0.69411767],\n",
       "         [0.63529414, 0.4       , 0.68235296],\n",
       "         ...,\n",
       "         [0.6901961 , 0.45490196, 0.72156864],\n",
       "         [0.72156864, 0.47843137, 0.7490196 ],\n",
       "         [0.76862746, 0.5176471 , 0.78039217]],\n",
       "\n",
       "        [[0.627451  , 0.38039216, 0.67058825],\n",
       "         [0.6509804 , 0.40784314, 0.69411767],\n",
       "         [0.7058824 , 0.47058824, 0.75686276],\n",
       "         ...,\n",
       "         [0.79607844, 0.54509807, 0.80784315],\n",
       "         [0.7529412 , 0.49803922, 0.7647059 ],\n",
       "         [0.75686276, 0.49411765, 0.75686276]],\n",
       "\n",
       "        [[0.6745098 , 0.4392157 , 0.7254902 ],\n",
       "         [0.7019608 , 0.4627451 , 0.7490196 ],\n",
       "         [0.6666667 , 0.42745098, 0.72156864],\n",
       "         ...,\n",
       "         [0.73333335, 0.46666667, 0.72156864],\n",
       "         [0.6784314 , 0.40784314, 0.67058825],\n",
       "         [0.7372549 , 0.47058824, 0.73333335]]],\n",
       "\n",
       "\n",
       "       [[[0.76862746, 0.61960787, 0.8509804 ],\n",
       "         [0.7607843 , 0.6156863 , 0.85882354],\n",
       "         [0.6901961 , 0.54901963, 0.79607844],\n",
       "         ...,\n",
       "         [0.85882354, 0.7529412 , 0.9019608 ],\n",
       "         [0.8666667 , 0.7607843 , 0.91764706],\n",
       "         [0.85882354, 0.7529412 , 0.9137255 ]],\n",
       "\n",
       "        [[0.78039217, 0.6313726 , 0.87058824],\n",
       "         [0.81960785, 0.6784314 , 0.92156863],\n",
       "         [0.73333335, 0.59607846, 0.84313726],\n",
       "         ...,\n",
       "         [0.8352941 , 0.7254902 , 0.8901961 ],\n",
       "         [0.8352941 , 0.72156864, 0.8901961 ],\n",
       "         [0.8352941 , 0.72156864, 0.8901961 ]],\n",
       "\n",
       "        [[0.7176471 , 0.57254905, 0.8235294 ],\n",
       "         [0.76862746, 0.6313726 , 0.8784314 ],\n",
       "         [0.65882355, 0.5254902 , 0.7764706 ],\n",
       "         ...,\n",
       "         [0.77254903, 0.654902  , 0.8392157 ],\n",
       "         [0.7921569 , 0.67058825, 0.85490197],\n",
       "         [0.8117647 , 0.6901961 , 0.87058824]],\n",
       "\n",
       "        ...,\n",
       "\n",
       "        [[0.8156863 , 0.7058824 , 0.8627451 ],\n",
       "         [0.8156863 , 0.69803923, 0.8784314 ],\n",
       "         [0.8509804 , 0.7294118 , 0.9254902 ],\n",
       "         ...,\n",
       "         [0.8156863 , 0.7372549 , 0.89411765],\n",
       "         [0.92156863, 0.84705883, 0.98039216],\n",
       "         [0.8666667 , 0.7921569 , 0.92156863]],\n",
       "\n",
       "        [[0.8392157 , 0.72156864, 0.8901961 ],\n",
       "         [0.8117647 , 0.6901961 , 0.8784314 ],\n",
       "         [0.76862746, 0.6431373 , 0.84705883],\n",
       "         ...,\n",
       "         [0.78039217, 0.69803923, 0.88235295],\n",
       "         [0.90588236, 0.83137256, 0.98039216],\n",
       "         [0.83137256, 0.75686276, 0.89411765]],\n",
       "\n",
       "        [[0.8       , 0.6784314 , 0.8627451 ],\n",
       "         [0.827451  , 0.69803923, 0.89411765],\n",
       "         [0.7607843 , 0.6313726 , 0.8392157 ],\n",
       "         ...,\n",
       "         [0.8       , 0.7058824 , 0.92941177],\n",
       "         [0.9137255 , 0.83137256, 1.        ],\n",
       "         [0.8352941 , 0.7607843 , 0.92156863]]]], dtype=float32)"
      ]
     },
     "execution_count": 14,
     "metadata": {},
     "output_type": "execute_result"
    }
   ],
   "source": [
    "batch[0]/255"
   ]
  },
  {
   "cell_type": "code",
   "execution_count": 15,
   "id": "d3cecb6b",
   "metadata": {},
   "outputs": [
    {
     "data": {
      "text/plain": [
       "2"
      ]
     },
     "execution_count": 15,
     "metadata": {},
     "output_type": "execute_result"
    }
   ],
   "source": [
    "len(batch)"
   ]
  },
  {
   "cell_type": "code",
   "execution_count": 16,
   "id": "49ba3872",
   "metadata": {},
   "outputs": [
    {
     "data": {
      "text/plain": [
       "array([1, 1, 1, 1, 1, 1, 0, 1, 1, 1, 0, 1, 0, 1, 0, 0, 0, 1, 1, 1, 1, 0,\n",
       "       1, 0, 1, 0, 0, 1, 0, 1, 0, 0], dtype=int32)"
      ]
     },
     "execution_count": 16,
     "metadata": {},
     "output_type": "execute_result"
    }
   ],
   "source": [
    "batch[1]"
   ]
  },
  {
   "cell_type": "code",
   "execution_count": 17,
   "id": "73962967",
   "metadata": {},
   "outputs": [
    {
     "data": {
      "image/png": "[encoded data removed]",
      "text/plain": [
       "<Figure size 2000x2000 with 8 Axes>"
      ]
     },
     "metadata": {},
     "output_type": "display_data"
    }
   ],
   "source": [
    "fig, ax = plt.subplots(ncols=8, figsize=(20,20))\n",
    "for idx, img in enumerate(batch[0][:8]):\n",
    "    ax[idx].imshow(img.astype(int))\n",
    "    ax[idx].title.set_text(batch[1][idx])"
   ]
  },
  {
   "cell_type": "code",
   "execution_count": 18,
   "id": "6107ecec",
   "metadata": {},
   "outputs": [],
   "source": [
    "data = data.map(lambda x,y: (x/255,y))"
   ]
  },
  {
   "cell_type": "code",
   "execution_count": 19,
   "id": "98c543e2",
   "metadata": {},
   "outputs": [
    {
     "data": {
      "text/plain": [
       "1.0"
      ]
     },
     "execution_count": 19,
     "metadata": {},
     "output_type": "execute_result"
    }
   ],
   "source": [
    "data.as_numpy_iterator().next()[0].max()"
   ]
  },
  {
   "cell_type": "code",
   "execution_count": 20,
   "id": "6c9ea9fd",
   "metadata": {},
   "outputs": [
    {
     "data": {
      "text/plain": [
       "290"
      ]
     },
     "execution_count": 20,
     "metadata": {},
     "output_type": "execute_result"
    }
   ],
   "source": [
    "len(data)"
   ]
  },
  {
   "cell_type": "code",
   "execution_count": 30,
   "id": "faadcf1b",
   "metadata": {},
   "outputs": [
    {
     "name": "stdout",
     "output_type": "stream",
     "text": [
      "174 58 58\n"
     ]
    }
   ],
   "source": [
    "train_size = int(len(data)*.8)\n",
    "test_size = int(len(data)*.2)\n",
    "val_size = int(train_size * 0.25)\n",
    "train_size -= val_size\n",
    "print(train_size,val_size,test_size)"
   ]
  },
  {
   "cell_type": "code",
   "execution_count": 31,
   "id": "e917286c",
   "metadata": {},
   "outputs": [],
   "source": [
    "train = data.take(train_size)\n",
    "val = data.skip(train_size).take(val_size)\n",
    "test = data.skip(train_size+ val_size).take(test_size)"
   ]
  },
  {
   "cell_type": "code",
   "execution_count": 38,
   "id": "a2215836",
   "metadata": {},
   "outputs": [],
   "source": [
    "from tensorflow.keras.models import Sequential\n",
    "from tensorflow.keras.layers import Conv2D, MaxPooling2D, Dense, Flatten, Dropout"
   ]
  },
  {
   "cell_type": "code",
   "execution_count": 39,
   "id": "f849ac7c",
   "metadata": {},
   "outputs": [],
   "source": [
    "model = Sequential()"
   ]
  },
  {
   "cell_type": "code",
   "execution_count": 40,
   "id": "a913c6d0",
   "metadata": {},
   "outputs": [],
   "source": [
    "model.add(Conv2D(16, (3,3), 1, activation='relu', input_shape=(27,27,3)))\n",
    "model.add(MaxPooling2D())\n",
    "\n",
    "model.add(Conv2D(32, (3,3), 1, activation='relu'))\n",
    "model.add(MaxPooling2D())\n",
    "\n",
    "model.add(Conv2D(16, (3,3), 1, activation='relu'))\n",
    "model.add(MaxPooling2D())\n",
    "\n",
    "model.add(Flatten())\n",
    "\n",
    "model.add(Dense(256, activation='relu'))\n",
    "model.add(Dense(1, activation='sigmoid'))"
   ]
  },
  {
   "cell_type": "code",
   "execution_count": 41,
   "id": "a0f8ac07",
   "metadata": {},
   "outputs": [],
   "source": [
    "model.compile('adam', loss=tf.losses.BinaryCrossentropy(), metrics=['accuracy'])"
   ]
  },
  {
   "cell_type": "code",
   "execution_count": 42,
   "id": "59f03572",
   "metadata": {},
   "outputs": [
    {
     "name": "stdout",
     "output_type": "stream",
     "text": [
      "Model: \"sequential_2\"\n",
      "_________________________________________________________________\n",
      " Layer (type)                Output Shape              Param #   \n",
      "=================================================================\n",
      " conv2d_5 (Conv2D)           (None, 25, 25, 16)        448       \n",
      "                                                                 \n",
      " max_pooling2d_4 (MaxPooling  (None, 12, 12, 16)       0         \n",
      " 2D)                                                             \n",
      "                                                                 \n",
      " conv2d_6 (Conv2D)           (None, 10, 10, 32)        4640      \n",
      "                                                                 \n",
      " max_pooling2d_5 (MaxPooling  (None, 5, 5, 32)         0         \n",
      " 2D)                                                             \n",
      "                                                                 \n",
      " conv2d_7 (Conv2D)           (None, 3, 3, 16)          4624      \n",
      "                                                                 \n",
      " max_pooling2d_6 (MaxPooling  (None, 1, 1, 16)         0         \n",
      " 2D)                                                             \n",
      "                                                                 \n",
      " flatten_2 (Flatten)         (None, 16)                0         \n",
      "                                                                 \n",
      " dense_4 (Dense)             (None, 256)               4352      \n",
      "                                                                 \n",
      " dense_5 (Dense)             (None, 1)                 257       \n",
      "                                                                 \n",
      "=================================================================\n",
      "Total params: 14,321\n",
      "Trainable params: 14,321\n",
      "Non-trainable params: 0\n",
      "_________________________________________________________________\n"
     ]
    }
   ],
   "source": [
    "model.summary()"
   ]
  },
  {
   "cell_type": "code",
   "execution_count": 43,
   "id": "78edfc5a",
   "metadata": {},
   "outputs": [],
   "source": [
    "logdir = '/Users/shehanjayaratne/Documents/RMIT programming/Machine Learning/Assignment 2/logs/'"
   ]
  },
  {
   "cell_type": "code",
   "execution_count": 45,
   "id": "ae2b109b",
   "metadata": {},
   "outputs": [],
   "source": [
    "tensorboard_callback = tf.keras.callbacks.TensorBoard(log_dir =logdir)"
   ]
  },
  {
   "cell_type": "code",
   "execution_count": 46,
   "id": "b38bea51",
   "metadata": {},
   "outputs": [
    {
     "name": "stdout",
     "output_type": "stream",
     "text": [
      "Epoch 1/20\n",
      "174/174 [==============================] - 2s 7ms/step - loss: 0.5566 - accuracy: 0.6952 - val_loss: 0.3441 - val_accuracy: 0.8675\n",
      "Epoch 2/20\n",
      "174/174 [==============================] - 1s 7ms/step - loss: 0.3409 - accuracy: 0.8542 - val_loss: 0.4152 - val_accuracy: 0.8184\n",
      "Epoch 3/20\n",
      "174/174 [==============================] - 1s 7ms/step - loss: 0.3180 - accuracy: 0.8644 - val_loss: 0.3012 - val_accuracy: 0.8718\n",
      "Epoch 4/20\n",
      "174/174 [==============================] - 1s 7ms/step - loss: 0.2927 - accuracy: 0.8806 - val_loss: 0.2863 - val_accuracy: 0.8836\n",
      "Epoch 5/20\n",
      "174/174 [==============================] - 1s 7ms/step - loss: 0.2763 - accuracy: 0.8865 - val_loss: 0.2970 - val_accuracy: 0.8712\n",
      "Epoch 6/20\n",
      "174/174 [==============================] - 1s 7ms/step - loss: 0.2715 - accuracy: 0.8870 - val_loss: 0.2854 - val_accuracy: 0.8793\n",
      "Epoch 7/20\n",
      "174/174 [==============================] - 1s 7ms/step - loss: 0.2702 - accuracy: 0.8865 - val_loss: 0.2719 - val_accuracy: 0.8825\n",
      "Epoch 8/20\n",
      "174/174 [==============================] - 1s 7ms/step - loss: 0.2600 - accuracy: 0.8928 - val_loss: 0.2618 - val_accuracy: 0.8917\n",
      "Epoch 9/20\n",
      "174/174 [==============================] - 1s 7ms/step - loss: 0.2585 - accuracy: 0.8951 - val_loss: 0.2756 - val_accuracy: 0.8847\n",
      "Epoch 10/20\n",
      "174/174 [==============================] - 1s 7ms/step - loss: 0.2610 - accuracy: 0.8926 - val_loss: 0.2731 - val_accuracy: 0.8798\n",
      "Epoch 11/20\n",
      "174/174 [==============================] - 1s 7ms/step - loss: 0.2465 - accuracy: 0.9009 - val_loss: 0.2516 - val_accuracy: 0.8976\n",
      "Epoch 12/20\n",
      "174/174 [==============================] - 1s 7ms/step - loss: 0.2501 - accuracy: 0.9001 - val_loss: 0.2725 - val_accuracy: 0.8922\n",
      "Epoch 13/20\n",
      "174/174 [==============================] - 1s 7ms/step - loss: 0.2499 - accuracy: 0.9009 - val_loss: 0.2898 - val_accuracy: 0.8745\n",
      "Epoch 14/20\n",
      "174/174 [==============================] - 1s 7ms/step - loss: 0.2394 - accuracy: 0.9025 - val_loss: 0.2806 - val_accuracy: 0.8885\n",
      "Epoch 15/20\n",
      "174/174 [==============================] - 1s 7ms/step - loss: 0.2442 - accuracy: 0.9014 - val_loss: 0.2615 - val_accuracy: 0.8874\n",
      "Epoch 16/20\n",
      "174/174 [==============================] - 1s 7ms/step - loss: 0.2304 - accuracy: 0.9059 - val_loss: 0.2681 - val_accuracy: 0.8852\n",
      "Epoch 17/20\n",
      "174/174 [==============================] - 1s 7ms/step - loss: 0.2311 - accuracy: 0.9055 - val_loss: 0.2453 - val_accuracy: 0.8982\n",
      "Epoch 18/20\n",
      "174/174 [==============================] - 1s 7ms/step - loss: 0.2305 - accuracy: 0.9055 - val_loss: 0.2575 - val_accuracy: 0.8922\n",
      "Epoch 19/20\n",
      "174/174 [==============================] - 1s 7ms/step - loss: 0.2274 - accuracy: 0.9079 - val_loss: 0.2624 - val_accuracy: 0.8906\n",
      "Epoch 20/20\n",
      "174/174 [==============================] - 1s 7ms/step - loss: 0.2152 - accuracy: 0.9142 - val_loss: 0.2384 - val_accuracy: 0.9046\n"
     ]
    }
   ],
   "source": [
    "hist = model.fit(train, epochs = 20, validation_data = val, callbacks=[tensorboard_callback])"
   ]
  },
  {
   "cell_type": "code",
   "execution_count": 47,
   "id": "0854bab7",
   "metadata": {},
   "outputs": [
    {
     "data": {
      "image/png": "[encoded data removed]",
      "text/plain": [
       "<Figure size 640x480 with 1 Axes>"
      ]
     },
     "metadata": {},
     "output_type": "display_data"
    }
   ],
   "source": [
    "fig = plt.figure()\n",
    "plt.plot(hist.history['loss'], color='teal', label='training_loss')\n",
    "plt.plot(hist.history['val_loss'], color='orange', label='val_loss')\n",
    "fig.suptitle('Loss', fontsize=20)\n",
    "plt.legend(loc=\"upper left\")\n",
    "plt.show()"
   ]
  },
  {
   "cell_type": "code",
   "execution_count": 48,
   "id": "821faef0",
   "metadata": {},
   "outputs": [
    {
     "data": {
      "image/png": "[encoded data removed]",
      "text/plain": [
       "<Figure size 640x480 with 1 Axes>"
      ]
     },
     "metadata": {},
     "output_type": "display_data"
    }
   ],
   "source": [
    "fig = plt.figure()\n",
    "plt.plot(hist.history['accuracy'], color='teal', label='training_accuracy')\n",
    "plt.plot(hist.history['val_accuracy'], color='orange', label='val_accuracy')\n",
    "fig.suptitle('Accuracy', fontsize=20)\n",
    "plt.legend(loc=\"upper left\")\n",
    "plt.show()"
   ]
  },
  {
   "cell_type": "code",
   "execution_count": 34,
   "id": "b23ee0c4",
   "metadata": {},
   "outputs": [],
   "source": [
    "from tensorflow.keras.metrics import Precision, Recall, BinaryAccuracy"
   ]
  },
  {
   "cell_type": "code",
   "execution_count": 50,
   "id": "12cfb7ba",
   "metadata": {},
   "outputs": [
    {
     "data": {
      "text/plain": [
       "58"
      ]
     },
     "execution_count": 50,
     "metadata": {},
     "output_type": "execute_result"
    }
   ],
   "source": [
    "len(test)"
   ]
  },
  {
   "cell_type": "code",
   "execution_count": 35,
   "id": "fddb8d45",
   "metadata": {},
   "outputs": [],
   "source": [
    "pre = Precision()\n",
    "re = Recall()\n",
    "acc = BinaryAccuracy()"
   ]
  },
  {
   "cell_type": "code",
   "execution_count": 52,
   "id": "343011db",
   "metadata": {},
   "outputs": [
    {
     "name": "stdout",
     "output_type": "stream",
     "text": [
      "1/1 [==============================] - 0s 74ms/step\n",
      "1/1 [==============================] - 0s 18ms/step\n",
      "1/1 [==============================] - 0s 17ms/step\n",
      "1/1 [==============================] - 0s 18ms/step\n",
      "1/1 [==============================] - 0s 17ms/step\n",
      "1/1 [==============================] - 0s 19ms/step\n",
      "1/1 [==============================] - 0s 18ms/step\n",
      "1/1 [==============================] - 0s 19ms/step\n",
      "1/1 [==============================] - 0s 19ms/step\n",
      "1/1 [==============================] - 0s 20ms/step\n",
      "1/1 [==============================] - 0s 18ms/step\n",
      "1/1 [==============================] - 0s 18ms/step\n",
      "1/1 [==============================] - 0s 19ms/step\n",
      "1/1 [==============================] - 0s 19ms/step\n",
      "1/1 [==============================] - 0s 17ms/step\n",
      "1/1 [==============================] - 0s 20ms/step\n",
      "1/1 [==============================] - 0s 18ms/step\n",
      "1/1 [==============================] - 0s 18ms/step\n",
      "1/1 [==============================] - 0s 18ms/step\n",
      "1/1 [==============================] - 0s 18ms/step\n",
      "1/1 [==============================] - 0s 17ms/step\n",
      "1/1 [==============================] - 0s 17ms/step\n",
      "1/1 [==============================] - 0s 18ms/step\n",
      "1/1 [==============================] - 0s 17ms/step\n",
      "1/1 [==============================] - 0s 17ms/step\n",
      "1/1 [==============================] - 0s 18ms/step\n",
      "1/1 [==============================] - 0s 18ms/step\n",
      "1/1 [==============================] - 0s 18ms/step\n",
      "1/1 [==============================] - 0s 17ms/step\n",
      "1/1 [==============================] - 0s 17ms/step\n",
      "1/1 [==============================] - 0s 18ms/step\n",
      "1/1 [==============================] - 0s 19ms/step\n",
      "1/1 [==============================] - 0s 18ms/step\n",
      "1/1 [==============================] - 0s 18ms/step\n",
      "1/1 [==============================] - 0s 17ms/step\n",
      "1/1 [==============================] - 0s 17ms/step\n",
      "1/1 [==============================] - 0s 17ms/step\n",
      "1/1 [==============================] - 0s 17ms/step\n",
      "1/1 [==============================] - 0s 18ms/step\n",
      "1/1 [==============================] - 0s 17ms/step\n",
      "1/1 [==============================] - 0s 17ms/step\n",
      "1/1 [==============================] - 0s 18ms/step\n",
      "1/1 [==============================] - 0s 17ms/step\n",
      "1/1 [==============================] - 0s 18ms/step\n",
      "1/1 [==============================] - 0s 17ms/step\n",
      "1/1 [==============================] - 0s 20ms/step\n",
      "1/1 [==============================] - 0s 19ms/step\n",
      "1/1 [==============================] - 0s 18ms/step\n",
      "1/1 [==============================] - 0s 17ms/step\n",
      "1/1 [==============================] - 0s 17ms/step\n",
      "1/1 [==============================] - 0s 17ms/step\n",
      "1/1 [==============================] - 0s 20ms/step\n",
      "1/1 [==============================] - 0s 18ms/step\n",
      "1/1 [==============================] - 0s 20ms/step\n",
      "1/1 [==============================] - 0s 19ms/step\n",
      "1/1 [==============================] - 0s 18ms/step\n",
      "1/1 [==============================] - 0s 18ms/step\n",
      "1/1 [==============================] - 0s 60ms/step\n"
     ]
    }
   ],
   "source": [
    "for batch in test.as_numpy_iterator(): \n",
    "    X, y = batch\n",
    "    yhat = model.predict(X)\n",
    "    pre.update_state(y, yhat)\n",
    "    re.update_state(y, yhat)\n",
    "    acc.update_state(y, yhat)"
   ]
  },
  {
   "cell_type": "code",
   "execution_count": 53,
   "id": "2cce5e82",
   "metadata": {},
   "outputs": [
    {
     "name": "stdout",
     "output_type": "stream",
     "text": [
      "Precision:0.8863435983657837, Recall:0.9526515007019043, Accuracy:0.9029810428619385\n"
     ]
    }
   ],
   "source": [
    "print(f'Precision:{pre.result()}, Recall:{re.result()}, Accuracy:{acc.result()}')"
   ]
  },
  {
   "cell_type": "code",
   "execution_count": null,
   "id": "8fb9ef33",
   "metadata": {},
   "outputs": [],
   "source": []
  }
 ],
 "metadata": {
  "kernelspec": {
   "display_name": "Python 3 (ipykernel)",
   "language": "python",
   "name": "python3"
  },
  "language_info": {
   "codemirror_mode": {
    "name": "ipython",
    "version": 3
   },
   "file_extension": ".py",
   "mimetype": "text/x-python",
   "name": "python",
   "nbconvert_exporter": "python",
   "pygments_lexer": "ipython3",
   "version": "3.10.10"
  },
  "varInspector": {
   "cols": {
    "lenName": 16,
    "lenType": 16,
    "lenVar": 40
   },
   "kernels_config": {
    "python": {
     "delete_cmd_postfix": "",
     "delete_cmd_prefix": "del ",
     "library": "var_list.py",
     "varRefreshCmd": "print(var_dic_list())"
    },
    "r": {
     "delete_cmd_postfix": ") ",
     "delete_cmd_prefix": "rm(",
     "library": "var_list.r",
     "varRefreshCmd": "cat(var_dic_list()) "
    }
   },
   "types_to_exclude": [
    "module",
    "function",
    "builtin_function_or_method",
    "instance",
    "_Feature"
   ],
   "window_display": false
  }
 },
 "nbformat": 4,
 "nbformat_minor": 5
}
